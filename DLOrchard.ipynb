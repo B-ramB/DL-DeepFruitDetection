{
 "cells": [
  {
   "cell_type": "code",
   "execution_count": 1,
   "id": "athletic-category",
   "metadata": {},
   "outputs": [],
   "source": [
    "import numpy as np\n",
    "import torch\n",
    "import torch.nn as nn\n",
    "from torch.utils.data import DataLoader\n",
    "from torchvision import transforms, datasets\n",
    "from torchvision.datasets import MNIST\n",
    "import torch.optim as optim\n",
    "import matplotlib.pyplot as plt\n",
    "from torchsummary import summary\n",
    "from PIL import Image"
   ]
  },
  {
   "cell_type": "code",
   "execution_count": 2,
   "id": "assisted-embassy",
   "metadata": {},
   "outputs": [],
   "source": [
    "class TorchCNN(nn.Module):\n",
    "    def __init__(self):\n",
    "        \"\"\"\n",
    "        Initialize a 3-layer CNN.\n",
    "\n",
    "        Args:\n",
    "            in_channels: number of features of the input image\n",
    "            hidden_channels: list of two numbers which are number of hidden features\n",
    "            out_features: number of features in output layer\n",
    "        \"\"\"\n",
    "        super(TorchCNN, self).__init__()\n",
    "\n",
    "        self.layers = []\n",
    "\n",
    "        # input layer\n",
    "        print('input')\n",
    "        self.convi = nn.Conv2d(1, 96, kernel_size=7, stride=2, padding = 1)\n",
    "        self.relui = nn.ReLU()\n",
    "\n",
    "        self.layers = [self.convi, self.relui]\n",
    "        print('layer 1')\n",
    "        # hidden layer 1\n",
    "        self.pool1 = nn.MaxPool2d(kernel_size=3, stride=2, padding = 1)\n",
    "        self.norm1 = nn.LocalResponseNorm(96)\n",
    "        self.conv1 = nn.Conv2d(96, 256, kernel_size=5, stride=2, padding = 1)\n",
    "        self.relu1 = nn.ReLU()\n",
    "\n",
    "        self.layers = self.layers + [self.pool1, self.norm1, self.conv1, self.relu1]\n",
    "\n",
    "        # hidden layer 2\n",
    "        self.pool2 = nn.MaxPool2d(kernel_size=3, stride=2)\n",
    "        self.norm2 = nn.LocalResponseNorm(256)\n",
    "        self.conv2 = nn.Conv2d(256, 384, kernel_size=3, stride=1, padding = 1)\n",
    "        self.relu2 = nn.ReLU()\n",
    "\n",
    "        self.layers = self.layers + [self.pool2, self.norm2, self.conv2, self.relu2]\n",
    "\n",
    "        # hidden layer 3\n",
    "        self.conv3 = nn.Conv2d(384, 384, kernel_size=3, stride=1, padding = 1)\n",
    "        self.relu3 = nn.ReLU()\n",
    "\n",
    "        self.layers = self.layers + [self.conv3, self.relu3]\n",
    "\n",
    "        # hidden layer 4\n",
    "        self.conv4 = nn.Conv2d(384, 256, kernel_size=3, stride=1, padding = 1)\n",
    "        self.relu4 = nn.ReLU()\n",
    "\n",
    "        self.layers = self.layers + [self.conv4, self.relu4]\n",
    "\n",
    "        # hidden layer 5\n",
    "        self.pool5 = nn.MaxPool2d(kernel_size=3, stride=2)\n",
    "\n",
    "        self.layers = self.layers + [self.pool5]\n",
    "\n",
    "        # hidden layer 6\n",
    "        self.flat1 = nn.Flatten()\n",
    "        self.lin6 = nn.Linear(6*6*256, 4096)\n",
    "\n",
    "        self.layers = self.layers + [self.flat1, self.lin6]\n",
    "\n",
    "        # hidden layer 7\n",
    "        self.lin7 = nn.Linear(4096, 4096)\n",
    "\n",
    "        self.layers = self.layers + [self.lin7]\n",
    "        \n",
    "        # output layer\n",
    "        self.lino = nn.Linear(4096, 10)\n",
    "        self.softo = nn.Softmax(dim=1)\n",
    "        \n",
    "        self.layers = self.layers + [self.lino, self.softo]\n",
    "\n",
    "    def forward(self, x):\n",
    "        i=0\n",
    "        for layer in self.layers:\n",
    "            x = layer(x)\n",
    "            print(type(layer))\n",
    "            print(x.size())\n",
    "            if type(layer)==torch.nn.modules.conv.Conv2d:\n",
    "                i+=1\n",
    "                print(f'layer {i}, {type(layer)}')\n",
    "        return x"
   ]
  },
  {
   "cell_type": "code",
   "execution_count": 3,
   "id": "industrial-sponsorship",
   "metadata": {},
   "outputs": [
    {
     "name": "stdout",
     "output_type": "stream",
     "text": [
      "input\n",
      "layer 1\n"
     ]
    }
   ],
   "source": [
    "net = TorchCNN()\n",
    "criterion = nn.CrossEntropyLoss()\n",
    "optimizer = optim.SGD(net.parameters(), lr=0.001, momentum=0.9)"
   ]
  },
  {
   "cell_type": "code",
   "execution_count": 4,
   "id": "allied-stockholm",
   "metadata": {},
   "outputs": [],
   "source": [
    "mnist_train = torch.load('../data/MNIST/processed/training.pt')\n",
    "mnist_test = torch.load('../data/MNIST/processed/test.pt')\n",
    "# fashiomnist_train = datasets.FashionMNIST(root=\"data\", train=True, download=True, transform=transforms.ToTensor())\n",
    "# fashiomnist_test = datasets.FashionMNIST(root=\"data\", train=False, download=True, transform=transforms.ToTensor())\n"
   ]
  },
  {
   "cell_type": "code",
   "execution_count": null,
   "id": "exact-bearing",
   "metadata": {},
   "outputs": [],
   "source": [
    "# fashiomnist_train = []\n",
    "\n",
    "# for data, label in zip(mnist_train[0], mnist_train[1]):\n",
    "#     fashiomnist_train.append([dat[None,:,:],label])\n",
    "    \n",
    "# fashiomnist_test = []\n",
    "\n",
    "# for data, label in zip(mnist_test[0], mnist_test[1]):\n",
    "#     fashiomnist_test.append([dat[None,:,:],label])\n",
    "    \n",
    "# train_loader = DataLoader(fashiomnist_train, batch_size=64, shuffle=True)\n",
    "# test_loader = DataLoader(fashiomnist_test, batch_size=1000)"
   ]
  },
  {
   "cell_type": "code",
   "execution_count": 5,
   "id": "constitutional-maria",
   "metadata": {},
   "outputs": [],
   "source": [
    "# fashiomnist_train = []\n",
    "# i = 0\n",
    "# for data, label in zip(mnist_train[0], mnist_train[1]):\n",
    "#     i+=1\n",
    "#     if i %1000 == 0:\n",
    "#         print(f'{i}')\n",
    "#     dat = rescale(data, 4, anti_aliasing=False)\n",
    "#     dat = torch.Tensor(dat)\n",
    "#     fashiomnist_train.append([dat[None,:,:],label])\n",
    "# #     i+=1\n",
    "# #     if i%10000==0:\n",
    "# #         print(i)\n",
    "    \n",
    "# fashiomnist_test = []\n",
    "# for data, label in zip(mnist_test[0], mnist_test[1]):\n",
    "#     dat = rescale(data, 4, anti_aliasing=False)\n",
    "#     dat = torch.Tensor(dat)\n",
    "#     fashiomnist_test.append([dat[None,:,:],label])"
   ]
  },
  {
   "cell_type": "code",
   "execution_count": 40,
   "id": "thirty-composite",
   "metadata": {},
   "outputs": [
    {
     "ename": "RuntimeError",
     "evalue": "[enforce fail at ..\\c10\\core\\CPUAllocator.cpp:73] data. DefaultCPUAllocator: not enough memory: you tried to allocate 3010560000 bytes. Buy new RAM!",
     "output_type": "error",
     "traceback": [
      "\u001b[1;31m---------------------------------------------------------------------------\u001b[0m",
      "\u001b[1;31mRuntimeError\u001b[0m                              Traceback (most recent call last)",
      "\u001b[1;32m<ipython-input-40-5e633886a08a>\u001b[0m in \u001b[0;36m<module>\u001b[1;34m\u001b[0m\n\u001b[0;32m      4\u001b[0m     \u001b[0mtrain\u001b[0m\u001b[1;33m.\u001b[0m\u001b[0mappend\u001b[0m\u001b[1;33m(\u001b[0m\u001b[0mtransform\u001b[0m\u001b[1;33m(\u001b[0m\u001b[0mmnist_train\u001b[0m\u001b[1;33m[\u001b[0m\u001b[1;36m0\u001b[0m\u001b[1;33m]\u001b[0m\u001b[1;33m[\u001b[0m\u001b[0mi\u001b[0m\u001b[1;33m*\u001b[0m\u001b[1;36m100\u001b[0m\u001b[1;33m:\u001b[0m\u001b[0mi\u001b[0m\u001b[1;33m*\u001b[0m\u001b[1;36m100\u001b[0m\u001b[1;33m+\u001b[0m\u001b[1;36m100\u001b[0m\u001b[1;33m]\u001b[0m\u001b[1;33m)\u001b[0m\u001b[1;33m)\u001b[0m\u001b[1;33m\u001b[0m\u001b[1;33m\u001b[0m\u001b[0m\n\u001b[0;32m      5\u001b[0m \u001b[1;33m\u001b[0m\u001b[0m\n\u001b[1;32m----> 6\u001b[1;33m \u001b[0mtrain\u001b[0m \u001b[1;33m=\u001b[0m \u001b[0mtorch\u001b[0m\u001b[1;33m.\u001b[0m\u001b[0mstack\u001b[0m\u001b[1;33m(\u001b[0m\u001b[0mtrain\u001b[0m\u001b[1;33m)\u001b[0m\u001b[1;33m.\u001b[0m\u001b[0mview\u001b[0m\u001b[1;33m(\u001b[0m\u001b[1;36m60000\u001b[0m\u001b[1;33m,\u001b[0m\u001b[1;36m224\u001b[0m\u001b[1;33m,\u001b[0m\u001b[1;36m224\u001b[0m\u001b[1;33m)\u001b[0m\u001b[1;33m\u001b[0m\u001b[1;33m\u001b[0m\u001b[0m\n\u001b[0m\u001b[0;32m      7\u001b[0m \u001b[1;33m\u001b[0m\u001b[0m\n\u001b[0;32m      8\u001b[0m \u001b[0mtrain_data\u001b[0m \u001b[1;33m=\u001b[0m \u001b[1;33m[\u001b[0m\u001b[1;33m]\u001b[0m\u001b[1;33m\u001b[0m\u001b[1;33m\u001b[0m\u001b[0m\n",
      "\u001b[1;31mRuntimeError\u001b[0m: [enforce fail at ..\\c10\\core\\CPUAllocator.cpp:73] data. DefaultCPUAllocator: not enough memory: you tried to allocate 3010560000 bytes. Buy new RAM!"
     ]
    }
   ],
   "source": [
    "transform = transforms.Compose([transforms.Resize((224,224))])\n",
    "train = []\n",
    "for i in range(len(mnist_train[0])//100):\n",
    "    train.append(transform(mnist_train[0][i*100:i*100+100]))\n",
    "    \n",
    "train = torch.stack(train).view(60000,224,224)\n",
    "\n",
    "train_data = []\n",
    "for data, label in zip(train, mnist_train[1]):\n",
    "    fashiomnist_train.append([data[None,:,:],label])\n",
    "    \n",
    "test = []\n",
    "for i in range(len(mnist_test[0])//100):\n",
    "    test.append(transform(mnist_test[0][i*100:i*100+100]))\n",
    "    \n",
    "test = torch.stack(test).view(10000,224,224)\n",
    "\n",
    "test_data = []\n",
    "for data, label in zip(test, mnist_test[1]):\n",
    "    test_data.append([data[None,:,:],label])"
   ]
  },
  {
   "cell_type": "code",
   "execution_count": 38,
   "id": "administrative-central",
   "metadata": {},
   "outputs": [
    {
     "data": {
      "text/plain": [
       "torch.Size([60000, 224, 224])"
      ]
     },
     "execution_count": 38,
     "metadata": {},
     "output_type": "execute_result"
    }
   ],
   "source": [
    "a = torch.stack(train)\n",
    "a.view(60000,224,224).size()"
   ]
  },
  {
   "cell_type": "code",
   "execution_count": null,
   "id": "dental-amendment",
   "metadata": {},
   "outputs": [],
   "source": [
    "transform = transforms.Compose([transforms.Resize((224,224))])\n",
    "fashiomnist_train = []\n",
    "\n",
    "for data, label in zip(mnist_train[0], mnist_train[1]):\n",
    "    dat = transform(data)\n",
    "    fashiomnist_train.append([dat[None,:,:],label])\n",
    "    \n",
    "fashiomnist_test = []\n",
    "for data, label in zip(mnist_test[0], mnist_test[1]):\n",
    "    dat = rescale(data, 4, anti_aliasing=False)\n",
    "    dat = torch.Tensor(dat)\n",
    "    fashiomnist_test.append([dat[None,:,:],label])"
   ]
  },
  {
   "cell_type": "code",
   "execution_count": 142,
   "id": "neither-authorization",
   "metadata": {},
   "outputs": [],
   "source": [
    "train_loader = DataLoader(fashiomnist_train, batch_size=64, shuffle=True)\n",
    "test_loader = DataLoader(fashiomnist_test, batch_size=1000)"
   ]
  },
  {
   "cell_type": "code",
   "execution_count": 156,
   "id": "progressive-estate",
   "metadata": {},
   "outputs": [
    {
     "data": {
      "text/plain": [
       "'torch.LongTensor'"
      ]
     },
     "execution_count": 156,
     "metadata": {},
     "output_type": "execute_result"
    }
   ],
   "source": [
    "(i1.type(torch.LongTensor)).type()"
   ]
  },
  {
   "cell_type": "code",
   "execution_count": 48,
   "id": "opening-carrier",
   "metadata": {},
   "outputs": [],
   "source": [
    "from skimage.transform import rescale\n",
    "image = i1[0][0]\n",
    "image_rescaled = rescale(image, 4, anti_aliasing=False)"
   ]
  },
  {
   "cell_type": "code",
   "execution_count": 51,
   "id": "colored-laptop",
   "metadata": {},
   "outputs": [
    {
     "data": {
      "image/png": "[encoded data removed]",
      "text/plain": [
       "<Figure size 432x288 with 1 Axes>"
      ]
     },
     "metadata": {
      "needs_background": "light"
     },
     "output_type": "display_data"
    }
   ],
   "source": [
    "a = torch.Tensor(image_rescaled)\n",
    "a = a[None,:,:]\n",
    "a.size()\n",
    "plt.figure()\n",
    "plt.imshow(a.view(112, 112), cmap='gray')\n",
    "plt.tight_layout()\n",
    "plt.show()"
   ]
  },
  {
   "cell_type": "code",
   "execution_count": 59,
   "id": "collect-specialist",
   "metadata": {},
   "outputs": [
    {
     "data": {
      "text/plain": [
       "torch.Size([28, 28])"
      ]
     },
     "execution_count": 59,
     "metadata": {},
     "output_type": "execute_result"
    }
   ],
   "source": [
    "fashiomnist_train.data[0].size()"
   ]
  },
  {
   "cell_type": "code",
   "execution_count": 62,
   "id": "lucky-things",
   "metadata": {},
   "outputs": [
    {
     "data": {
      "image/png": "[encoded data removed]",
      "text/plain": [
       "<Figure size 360x360 with 25 Axes>"
      ]
     },
     "metadata": {
      "needs_background": "light"
     },
     "output_type": "display_data"
    }
   ],
   "source": [
    "fig, axs = plt.subplots(5, 5, figsize=(5, 5))\n",
    "for i in range(25):\n",
    "    x, y = fashiomnist_test[i]\n",
    "    ax = axs[i // 5][i % 5]\n",
    "    ax.imshow(x.view(112, 112), cmap='gray')\n",
    "    ax.axis('off')\n",
    "    ax.axis('off')\n",
    "plt.tight_layout()\n",
    "plt.show()"
   ]
  },
  {
   "cell_type": "code",
   "execution_count": 123,
   "id": "bibliographic-liability",
   "metadata": {},
   "outputs": [],
   "source": [
    "def try_gpu():\n",
    "    \"\"\"\n",
    "    If GPU is available, return torch.device as cuda:0; else return torch.device\n",
    "    as cpu.\n",
    "    \"\"\"\n",
    "    if torch.cuda.is_available():\n",
    "        device = torch.device('cuda:0')\n",
    "    else:\n",
    "        device = torch.device('cpu')\n",
    "    return device"
   ]
  },
  {
   "cell_type": "code",
   "execution_count": 140,
   "id": "capital-livestock",
   "metadata": {},
   "outputs": [
    {
     "name": "stdout",
     "output_type": "stream",
     "text": [
      "<class 'torch.nn.modules.conv.Conv2d'>\n",
      "torch.Size([2, 96, 110, 110])\n",
      "layer 1, <class 'torch.nn.modules.conv.Conv2d'>\n",
      "<class 'torch.nn.modules.activation.ReLU'>\n",
      "torch.Size([2, 96, 110, 110])\n",
      "<class 'torch.nn.modules.pooling.MaxPool2d'>\n",
      "torch.Size([2, 96, 55, 55])\n",
      "<class 'torch.nn.modules.normalization.LocalResponseNorm'>\n",
      "torch.Size([2, 96, 55, 55])\n",
      "<class 'torch.nn.modules.conv.Conv2d'>\n",
      "torch.Size([2, 256, 27, 27])\n",
      "layer 2, <class 'torch.nn.modules.conv.Conv2d'>\n",
      "<class 'torch.nn.modules.activation.ReLU'>\n",
      "torch.Size([2, 256, 27, 27])\n",
      "<class 'torch.nn.modules.pooling.MaxPool2d'>\n",
      "torch.Size([2, 256, 13, 13])\n",
      "<class 'torch.nn.modules.normalization.LocalResponseNorm'>\n",
      "torch.Size([2, 256, 13, 13])\n",
      "<class 'torch.nn.modules.conv.Conv2d'>\n",
      "torch.Size([2, 384, 13, 13])\n",
      "layer 3, <class 'torch.nn.modules.conv.Conv2d'>\n",
      "<class 'torch.nn.modules.activation.ReLU'>\n",
      "torch.Size([2, 384, 13, 13])\n",
      "<class 'torch.nn.modules.conv.Conv2d'>\n",
      "torch.Size([2, 384, 13, 13])\n",
      "layer 4, <class 'torch.nn.modules.conv.Conv2d'>\n",
      "<class 'torch.nn.modules.activation.ReLU'>\n",
      "torch.Size([2, 384, 13, 13])\n",
      "<class 'torch.nn.modules.conv.Conv2d'>\n",
      "torch.Size([2, 256, 13, 13])\n",
      "layer 5, <class 'torch.nn.modules.conv.Conv2d'>\n",
      "<class 'torch.nn.modules.activation.ReLU'>\n",
      "torch.Size([2, 256, 13, 13])\n",
      "<class 'torch.nn.modules.pooling.MaxPool2d'>\n",
      "torch.Size([2, 256, 6, 6])\n",
      "<class 'torch.nn.modules.flatten.Flatten'>\n",
      "torch.Size([2, 9216])\n",
      "<class 'torch.nn.modules.linear.Linear'>\n",
      "torch.Size([2, 4096])\n",
      "<class 'torch.nn.modules.linear.Linear'>\n",
      "torch.Size([2, 4096])\n",
      "<class 'torch.nn.modules.linear.Linear'>\n",
      "torch.Size([2, 10])\n",
      "<class 'torch.nn.modules.activation.Softmax'>\n",
      "torch.Size([2, 10])\n",
      "----------------------------------------------------------------\n",
      "        Layer (type)               Output Shape         Param #\n",
      "================================================================\n",
      "            Conv2d-1         [-1, 96, 110, 110]           4,800\n",
      "              ReLU-2         [-1, 96, 110, 110]               0\n",
      "         MaxPool2d-3           [-1, 96, 55, 55]               0\n",
      " LocalResponseNorm-4           [-1, 96, 55, 55]               0\n",
      "            Conv2d-5          [-1, 256, 27, 27]         614,656\n",
      "              ReLU-6          [-1, 256, 27, 27]               0\n",
      "         MaxPool2d-7          [-1, 256, 13, 13]               0\n",
      " LocalResponseNorm-8          [-1, 256, 13, 13]               0\n",
      "            Conv2d-9          [-1, 384, 13, 13]         885,120\n",
      "             ReLU-10          [-1, 384, 13, 13]               0\n",
      "           Conv2d-11          [-1, 384, 13, 13]       1,327,488\n",
      "             ReLU-12          [-1, 384, 13, 13]               0\n",
      "           Conv2d-13          [-1, 256, 13, 13]         884,992\n",
      "             ReLU-14          [-1, 256, 13, 13]               0\n",
      "        MaxPool2d-15            [-1, 256, 6, 6]               0\n",
      "          Flatten-16                 [-1, 9216]               0\n",
      "           Linear-17                 [-1, 4096]      37,752,832\n",
      "           Linear-18                 [-1, 4096]      16,781,312\n",
      "           Linear-19                   [-1, 10]          40,970\n",
      "          Softmax-20                   [-1, 10]               0\n",
      "================================================================\n",
      "Total params: 58,292,170\n",
      "Trainable params: 58,292,170\n",
      "Non-trainable params: 0\n",
      "----------------------------------------------------------------\n",
      "Input size (MB): 0.19\n",
      "Forward/backward pass size (MB): 28.51\n",
      "Params size (MB): 222.37\n",
      "Estimated Total Size (MB): 251.07\n",
      "----------------------------------------------------------------\n"
     ]
    }
   ],
   "source": [
    "summary(net, (1,224, 224), device='cpu')"
   ]
  },
  {
   "cell_type": "code",
   "execution_count": 158,
   "id": "lonely-recovery",
   "metadata": {},
   "outputs": [
    {
     "data": {
      "text/plain": [
       "'torch.LongTensor'"
      ]
     },
     "execution_count": 158,
     "metadata": {},
     "output_type": "execute_result"
    }
   ],
   "source": [
    "l1.type()"
   ]
  },
  {
   "cell_type": "code",
   "execution_count": 159,
   "id": "thorough-alpha",
   "metadata": {},
   "outputs": [
    {
     "name": "stdout",
     "output_type": "stream",
     "text": [
      "batch 0\n",
      "<class 'torch.nn.modules.conv.Conv2d'>\n",
      "torch.Size([64, 96, 54, 54])\n",
      "layer 1, <class 'torch.nn.modules.conv.Conv2d'>\n",
      "<class 'torch.nn.modules.activation.ReLU'>\n",
      "torch.Size([64, 96, 54, 54])\n",
      "<class 'torch.nn.modules.pooling.MaxPool2d'>\n",
      "torch.Size([64, 96, 27, 27])\n",
      "<class 'torch.nn.modules.normalization.LocalResponseNorm'>\n",
      "torch.Size([64, 96, 27, 27])\n",
      "<class 'torch.nn.modules.conv.Conv2d'>\n",
      "torch.Size([64, 256, 13, 13])\n",
      "layer 2, <class 'torch.nn.modules.conv.Conv2d'>\n",
      "<class 'torch.nn.modules.activation.ReLU'>\n",
      "torch.Size([64, 256, 13, 13])\n",
      "<class 'torch.nn.modules.pooling.MaxPool2d'>\n",
      "torch.Size([64, 256, 6, 6])\n",
      "<class 'torch.nn.modules.normalization.LocalResponseNorm'>\n",
      "torch.Size([64, 256, 6, 6])\n",
      "<class 'torch.nn.modules.conv.Conv2d'>\n",
      "torch.Size([64, 384, 6, 6])\n",
      "layer 3, <class 'torch.nn.modules.conv.Conv2d'>\n",
      "<class 'torch.nn.modules.activation.ReLU'>\n",
      "torch.Size([64, 384, 6, 6])\n",
      "<class 'torch.nn.modules.conv.Conv2d'>\n",
      "torch.Size([64, 384, 6, 6])\n",
      "layer 4, <class 'torch.nn.modules.conv.Conv2d'>\n",
      "<class 'torch.nn.modules.activation.ReLU'>\n",
      "torch.Size([64, 384, 6, 6])\n",
      "<class 'torch.nn.modules.conv.Conv2d'>\n",
      "torch.Size([64, 256, 6, 6])\n",
      "layer 5, <class 'torch.nn.modules.conv.Conv2d'>\n",
      "<class 'torch.nn.modules.activation.ReLU'>\n",
      "torch.Size([64, 256, 6, 6])\n",
      "<class 'torch.nn.modules.pooling.MaxPool2d'>\n",
      "torch.Size([64, 256, 2, 2])\n",
      "<class 'torch.nn.modules.flatten.Flatten'>\n",
      "torch.Size([64, 1024])\n"
     ]
    },
    {
     "ename": "RuntimeError",
     "evalue": "mat1 dim 1 must match mat2 dim 0",
     "output_type": "error",
     "traceback": [
      "\u001b[1;31m---------------------------------------------------------------------------\u001b[0m",
      "\u001b[1;31mRuntimeError\u001b[0m                              Traceback (most recent call last)",
      "\u001b[1;32m<ipython-input-159-a9473ddaa70d>\u001b[0m in \u001b[0;36m<module>\u001b[1;34m\u001b[0m\n\u001b[0;32m     28\u001b[0m \u001b[1;33m\u001b[0m\u001b[0m\n\u001b[0;32m     29\u001b[0m         \u001b[1;31m# Perform forward pass\u001b[0m\u001b[1;33m\u001b[0m\u001b[1;33m\u001b[0m\u001b[1;33m\u001b[0m\u001b[0m\n\u001b[1;32m---> 30\u001b[1;33m         \u001b[0my_pred\u001b[0m \u001b[1;33m=\u001b[0m \u001b[0mnet\u001b[0m\u001b[1;33m(\u001b[0m\u001b[0mx_batch\u001b[0m\u001b[1;33m)\u001b[0m\u001b[1;33m\u001b[0m\u001b[1;33m\u001b[0m\u001b[0m\n\u001b[0m\u001b[0;32m     31\u001b[0m \u001b[1;33m\u001b[0m\u001b[0m\n\u001b[0;32m     32\u001b[0m         \u001b[1;31m# Compute the loss\u001b[0m\u001b[1;33m\u001b[0m\u001b[1;33m\u001b[0m\u001b[1;33m\u001b[0m\u001b[0m\n",
      "\u001b[1;32m~\\Anaconda3\\envs\\pytorch-cpu\\lib\\site-packages\\torch\\nn\\modules\\module.py\u001b[0m in \u001b[0;36m_call_impl\u001b[1;34m(self, *input, **kwargs)\u001b[0m\n\u001b[0;32m    725\u001b[0m             \u001b[0mresult\u001b[0m \u001b[1;33m=\u001b[0m \u001b[0mself\u001b[0m\u001b[1;33m.\u001b[0m\u001b[0m_slow_forward\u001b[0m\u001b[1;33m(\u001b[0m\u001b[1;33m*\u001b[0m\u001b[0minput\u001b[0m\u001b[1;33m,\u001b[0m \u001b[1;33m**\u001b[0m\u001b[0mkwargs\u001b[0m\u001b[1;33m)\u001b[0m\u001b[1;33m\u001b[0m\u001b[1;33m\u001b[0m\u001b[0m\n\u001b[0;32m    726\u001b[0m         \u001b[1;32melse\u001b[0m\u001b[1;33m:\u001b[0m\u001b[1;33m\u001b[0m\u001b[1;33m\u001b[0m\u001b[0m\n\u001b[1;32m--> 727\u001b[1;33m             \u001b[0mresult\u001b[0m \u001b[1;33m=\u001b[0m \u001b[0mself\u001b[0m\u001b[1;33m.\u001b[0m\u001b[0mforward\u001b[0m\u001b[1;33m(\u001b[0m\u001b[1;33m*\u001b[0m\u001b[0minput\u001b[0m\u001b[1;33m,\u001b[0m \u001b[1;33m**\u001b[0m\u001b[0mkwargs\u001b[0m\u001b[1;33m)\u001b[0m\u001b[1;33m\u001b[0m\u001b[1;33m\u001b[0m\u001b[0m\n\u001b[0m\u001b[0;32m    728\u001b[0m         for hook in itertools.chain(\n\u001b[0;32m    729\u001b[0m                 \u001b[0m_global_forward_hooks\u001b[0m\u001b[1;33m.\u001b[0m\u001b[0mvalues\u001b[0m\u001b[1;33m(\u001b[0m\u001b[1;33m)\u001b[0m\u001b[1;33m,\u001b[0m\u001b[1;33m\u001b[0m\u001b[1;33m\u001b[0m\u001b[0m\n",
      "\u001b[1;32m<ipython-input-136-9a8064c3ec49>\u001b[0m in \u001b[0;36mforward\u001b[1;34m(self, x)\u001b[0m\n\u001b[0;32m     73\u001b[0m         \u001b[0mi\u001b[0m\u001b[1;33m=\u001b[0m\u001b[1;36m0\u001b[0m\u001b[1;33m\u001b[0m\u001b[1;33m\u001b[0m\u001b[0m\n\u001b[0;32m     74\u001b[0m         \u001b[1;32mfor\u001b[0m \u001b[0mlayer\u001b[0m \u001b[1;32min\u001b[0m \u001b[0mself\u001b[0m\u001b[1;33m.\u001b[0m\u001b[0mlayers\u001b[0m\u001b[1;33m:\u001b[0m\u001b[1;33m\u001b[0m\u001b[1;33m\u001b[0m\u001b[0m\n\u001b[1;32m---> 75\u001b[1;33m             \u001b[0mx\u001b[0m \u001b[1;33m=\u001b[0m \u001b[0mlayer\u001b[0m\u001b[1;33m(\u001b[0m\u001b[0mx\u001b[0m\u001b[1;33m)\u001b[0m\u001b[1;33m\u001b[0m\u001b[1;33m\u001b[0m\u001b[0m\n\u001b[0m\u001b[0;32m     76\u001b[0m             \u001b[0mprint\u001b[0m\u001b[1;33m(\u001b[0m\u001b[0mtype\u001b[0m\u001b[1;33m(\u001b[0m\u001b[0mlayer\u001b[0m\u001b[1;33m)\u001b[0m\u001b[1;33m)\u001b[0m\u001b[1;33m\u001b[0m\u001b[1;33m\u001b[0m\u001b[0m\n\u001b[0;32m     77\u001b[0m             \u001b[0mprint\u001b[0m\u001b[1;33m(\u001b[0m\u001b[0mx\u001b[0m\u001b[1;33m.\u001b[0m\u001b[0msize\u001b[0m\u001b[1;33m(\u001b[0m\u001b[1;33m)\u001b[0m\u001b[1;33m)\u001b[0m\u001b[1;33m\u001b[0m\u001b[1;33m\u001b[0m\u001b[0m\n",
      "\u001b[1;32m~\\Anaconda3\\envs\\pytorch-cpu\\lib\\site-packages\\torch\\nn\\modules\\module.py\u001b[0m in \u001b[0;36m_call_impl\u001b[1;34m(self, *input, **kwargs)\u001b[0m\n\u001b[0;32m    725\u001b[0m             \u001b[0mresult\u001b[0m \u001b[1;33m=\u001b[0m \u001b[0mself\u001b[0m\u001b[1;33m.\u001b[0m\u001b[0m_slow_forward\u001b[0m\u001b[1;33m(\u001b[0m\u001b[1;33m*\u001b[0m\u001b[0minput\u001b[0m\u001b[1;33m,\u001b[0m \u001b[1;33m**\u001b[0m\u001b[0mkwargs\u001b[0m\u001b[1;33m)\u001b[0m\u001b[1;33m\u001b[0m\u001b[1;33m\u001b[0m\u001b[0m\n\u001b[0;32m    726\u001b[0m         \u001b[1;32melse\u001b[0m\u001b[1;33m:\u001b[0m\u001b[1;33m\u001b[0m\u001b[1;33m\u001b[0m\u001b[0m\n\u001b[1;32m--> 727\u001b[1;33m             \u001b[0mresult\u001b[0m \u001b[1;33m=\u001b[0m \u001b[0mself\u001b[0m\u001b[1;33m.\u001b[0m\u001b[0mforward\u001b[0m\u001b[1;33m(\u001b[0m\u001b[1;33m*\u001b[0m\u001b[0minput\u001b[0m\u001b[1;33m,\u001b[0m \u001b[1;33m**\u001b[0m\u001b[0mkwargs\u001b[0m\u001b[1;33m)\u001b[0m\u001b[1;33m\u001b[0m\u001b[1;33m\u001b[0m\u001b[0m\n\u001b[0m\u001b[0;32m    728\u001b[0m         for hook in itertools.chain(\n\u001b[0;32m    729\u001b[0m                 \u001b[0m_global_forward_hooks\u001b[0m\u001b[1;33m.\u001b[0m\u001b[0mvalues\u001b[0m\u001b[1;33m(\u001b[0m\u001b[1;33m)\u001b[0m\u001b[1;33m,\u001b[0m\u001b[1;33m\u001b[0m\u001b[1;33m\u001b[0m\u001b[0m\n",
      "\u001b[1;32m~\\Anaconda3\\envs\\pytorch-cpu\\lib\\site-packages\\torch\\nn\\modules\\linear.py\u001b[0m in \u001b[0;36mforward\u001b[1;34m(self, input)\u001b[0m\n\u001b[0;32m     91\u001b[0m \u001b[1;33m\u001b[0m\u001b[0m\n\u001b[0;32m     92\u001b[0m     \u001b[1;32mdef\u001b[0m \u001b[0mforward\u001b[0m\u001b[1;33m(\u001b[0m\u001b[0mself\u001b[0m\u001b[1;33m,\u001b[0m \u001b[0minput\u001b[0m\u001b[1;33m:\u001b[0m \u001b[0mTensor\u001b[0m\u001b[1;33m)\u001b[0m \u001b[1;33m->\u001b[0m \u001b[0mTensor\u001b[0m\u001b[1;33m:\u001b[0m\u001b[1;33m\u001b[0m\u001b[1;33m\u001b[0m\u001b[0m\n\u001b[1;32m---> 93\u001b[1;33m         \u001b[1;32mreturn\u001b[0m \u001b[0mF\u001b[0m\u001b[1;33m.\u001b[0m\u001b[0mlinear\u001b[0m\u001b[1;33m(\u001b[0m\u001b[0minput\u001b[0m\u001b[1;33m,\u001b[0m \u001b[0mself\u001b[0m\u001b[1;33m.\u001b[0m\u001b[0mweight\u001b[0m\u001b[1;33m,\u001b[0m \u001b[0mself\u001b[0m\u001b[1;33m.\u001b[0m\u001b[0mbias\u001b[0m\u001b[1;33m)\u001b[0m\u001b[1;33m\u001b[0m\u001b[1;33m\u001b[0m\u001b[0m\n\u001b[0m\u001b[0;32m     94\u001b[0m \u001b[1;33m\u001b[0m\u001b[0m\n\u001b[0;32m     95\u001b[0m     \u001b[1;32mdef\u001b[0m \u001b[0mextra_repr\u001b[0m\u001b[1;33m(\u001b[0m\u001b[0mself\u001b[0m\u001b[1;33m)\u001b[0m \u001b[1;33m->\u001b[0m \u001b[0mstr\u001b[0m\u001b[1;33m:\u001b[0m\u001b[1;33m\u001b[0m\u001b[1;33m\u001b[0m\u001b[0m\n",
      "\u001b[1;32m~\\Anaconda3\\envs\\pytorch-cpu\\lib\\site-packages\\torch\\nn\\functional.py\u001b[0m in \u001b[0;36mlinear\u001b[1;34m(input, weight, bias)\u001b[0m\n\u001b[0;32m   1688\u001b[0m     \u001b[1;32mif\u001b[0m \u001b[0minput\u001b[0m\u001b[1;33m.\u001b[0m\u001b[0mdim\u001b[0m\u001b[1;33m(\u001b[0m\u001b[1;33m)\u001b[0m \u001b[1;33m==\u001b[0m \u001b[1;36m2\u001b[0m \u001b[1;32mand\u001b[0m \u001b[0mbias\u001b[0m \u001b[1;32mis\u001b[0m \u001b[1;32mnot\u001b[0m \u001b[1;32mNone\u001b[0m\u001b[1;33m:\u001b[0m\u001b[1;33m\u001b[0m\u001b[1;33m\u001b[0m\u001b[0m\n\u001b[0;32m   1689\u001b[0m         \u001b[1;31m# fused op is marginally faster\u001b[0m\u001b[1;33m\u001b[0m\u001b[1;33m\u001b[0m\u001b[1;33m\u001b[0m\u001b[0m\n\u001b[1;32m-> 1690\u001b[1;33m         \u001b[0mret\u001b[0m \u001b[1;33m=\u001b[0m \u001b[0mtorch\u001b[0m\u001b[1;33m.\u001b[0m\u001b[0maddmm\u001b[0m\u001b[1;33m(\u001b[0m\u001b[0mbias\u001b[0m\u001b[1;33m,\u001b[0m \u001b[0minput\u001b[0m\u001b[1;33m,\u001b[0m \u001b[0mweight\u001b[0m\u001b[1;33m.\u001b[0m\u001b[0mt\u001b[0m\u001b[1;33m(\u001b[0m\u001b[1;33m)\u001b[0m\u001b[1;33m)\u001b[0m\u001b[1;33m\u001b[0m\u001b[1;33m\u001b[0m\u001b[0m\n\u001b[0m\u001b[0;32m   1691\u001b[0m     \u001b[1;32melse\u001b[0m\u001b[1;33m:\u001b[0m\u001b[1;33m\u001b[0m\u001b[1;33m\u001b[0m\u001b[0m\n\u001b[0;32m   1692\u001b[0m         \u001b[0moutput\u001b[0m \u001b[1;33m=\u001b[0m \u001b[0minput\u001b[0m\u001b[1;33m.\u001b[0m\u001b[0mmatmul\u001b[0m\u001b[1;33m(\u001b[0m\u001b[0mweight\u001b[0m\u001b[1;33m.\u001b[0m\u001b[0mt\u001b[0m\u001b[1;33m(\u001b[0m\u001b[1;33m)\u001b[0m\u001b[1;33m)\u001b[0m\u001b[1;33m\u001b[0m\u001b[1;33m\u001b[0m\u001b[0m\n",
      "\u001b[1;31mRuntimeError\u001b[0m: mat1 dim 1 must match mat2 dim 0"
     ]
    }
   ],
   "source": [
    "epochs = 15\n",
    "\n",
    "# Define list to store losses and performances of each iteration\n",
    "train_losses = []\n",
    "train_accs = []\n",
    "test_accs = []\n",
    "\n",
    "# Try using gpu instead of cpu\n",
    "device = try_gpu()\n",
    "\n",
    "for epoch in range(epochs):\n",
    "\n",
    "    # Network in training mode and to device\n",
    "    net.train()\n",
    "    net.to(device)\n",
    "\n",
    "    # Training loop\n",
    "    for i, (x_batch, y_batch) in enumerate(train_loader):\n",
    "        \n",
    "        print(f'batch {i}')\n",
    "\n",
    "        # Set to same device\n",
    "        x_batch, y_batch = x_batch.to(device), y_batch.to(device)\n",
    "        y_batch = y_batch.type(torch.FloatTensor) \n",
    "\n",
    "        # Set the gradients to zero\n",
    "        optimizer.zero_grad()\n",
    "\n",
    "        # Perform forward pass\n",
    "        y_pred = net(x_batch)\n",
    "\n",
    "        # Compute the loss\n",
    "        loss = criterion(y_pred, y_batch)\n",
    "        train_losses.append(loss)\n",
    "        \n",
    "        # Backward computation and update\n",
    "        loss.backward()\n",
    "        optimizer.step()\n",
    "\n",
    "    # Compute train and test error\n",
    "    train_acc = 100*evaluate_accuracy(train_loader, net.to('cpu'))\n",
    "    test_acc = 100*evaluate_accuracy(test_loader, net.to('cpu'))\n",
    "    \n",
    "    # Development of performance\n",
    "    train_accs.append(train_acc)\n",
    "    test_accs.append(test_acc)\n",
    "\n",
    "    # Print performance\n",
    "    print('Epoch: {:.0f}'.format(epoch+1))\n",
    "    print('Accuracy of train set: {:.00f}%'.format(train_acc))\n",
    "    print('Accuracy of test set: {:.00f}%'.format(test_acc))\n",
    "    print('')"
   ]
  }
 ],
 "metadata": {
  "kernelspec": {
   "display_name": "Python 3",
   "language": "python",
   "name": "python3"
  },
  "language_info": {
   "codemirror_mode": {
    "name": "ipython",
    "version": 3
   },
   "file_extension": ".py",
   "mimetype": "text/x-python",
   "name": "python",
   "nbconvert_exporter": "python",
   "pygments_lexer": "ipython3",
   "version": "3.8.8"
  }
 },
 "nbformat": 4,
 "nbformat_minor": 5
}
